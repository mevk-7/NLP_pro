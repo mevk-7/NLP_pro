{
 "cells": [
  {
   "cell_type": "code",
   "execution_count": 1,
   "metadata": {
    "collapsed": true
   },
   "outputs": [],
   "source": [
    "import codecs\n",
    "import glob\n",
    "import logging\n",
    "import multiprocessing\n",
    "import os\n",
    "import pprint\n",
    "import re\n",
    "import random "
   ]
  },
  {
   "cell_type": "code",
   "execution_count": 2,
   "metadata": {
    "collapsed": true
   },
   "outputs": [],
   "source": [
    "import nltk\n",
    "import gensim.models.word2vec as w2v\n",
    "import gensim\n",
    "import sklearn.manifold\n",
    "import numpy as np\n",
    "import matplotlib.pyplot as plt\n",
    "import pandas as pd\n",
    "import seaborn as sns\n",
    "from sklearn.manifold import TSNE\n"
   ]
  },
  {
   "cell_type": "code",
   "execution_count": 3,
   "metadata": {},
   "outputs": [
    {
     "name": "stdout",
     "output_type": "stream",
     "text": [
      "Populating the interactive namespace from numpy and matplotlib\n"
     ]
    },
    {
     "name": "stderr",
     "output_type": "stream",
     "text": [
      "/home/vikrant/anaconda3/lib/python3.6/site-packages/IPython/core/magics/pylab.py:160: UserWarning: pylab import has clobbered these variables: ['random']\n",
      "`%matplotlib` prevents importing * from pylab and numpy\n",
      "  \"\\n`%matplotlib` prevents importing * from pylab and numpy\"\n"
     ]
    }
   ],
   "source": [
    "%pylab inline\n"
   ]
  },
  {
   "cell_type": "code",
   "execution_count": 4,
   "metadata": {
    "collapsed": true
   },
   "outputs": [],
   "source": [
    "logging.basicConfig(format='%(asctime)s : %(levelname)s : %(message)s', level=logging.INFO)\n"
   ]
  },
  {
   "cell_type": "code",
   "execution_count": 5,
   "metadata": {},
   "outputs": [
    {
     "data": {
      "text/plain": [
       "'\\nfor time being  i am using pre trained model provided in github link ---> https://github.com/Kyubyong/wordvectors\\nto use train model please uncommnent this section\\n\\n'"
      ]
     },
     "execution_count": 5,
     "metadata": {},
     "output_type": "execute_result"
    }
   ],
   "source": [
    "'''\n",
    "for time being  i am using pre trained model provided in github link ---> https://github.com/Kyubyong/wordvectors\n",
    "to use train model please uncommnent this section\n",
    "\n",
    "'''"
   ]
  },
  {
   "cell_type": "code",
   "execution_count": 6,
   "metadata": {
    "collapsed": true
   },
   "outputs": [
    {
     "name": "stderr",
     "output_type": "stream",
     "text": [
      "2018-04-06 00:51:37,033 : INFO : loading Word2Vec object from ./hi.bin\n",
      "2018-04-06 00:51:38,722 : INFO : setting ignored attribute syn0norm to None\n",
      "2018-04-06 00:51:38,724 : INFO : setting ignored attribute cum_table to None\n",
      "2018-04-06 00:51:38,725 : INFO : Model saved using code from earlier Gensim Version. Re-loading old model in a compatible way.\n",
      "2018-04-06 00:51:38,726 : INFO : loading Word2Vec object from ./hi.bin\n",
      "2018-04-06 00:51:39,052 : INFO : setting ignored attribute syn0norm to None\n",
      "2018-04-06 00:51:39,052 : INFO : setting ignored attribute cum_table to None\n",
      "2018-04-06 00:51:39,053 : INFO : loaded ./hi.bin\n"
     ]
    }
   ],
   "source": [
    "model = gensim.models.Word2Vec.load('./hi.bin')"
   ]
  },
  {
   "cell_type": "code",
   "execution_count": 7,
   "metadata": {},
   "outputs": [
    {
     "name": "stdout",
     "output_type": "stream",
     "text": [
      "Word2Vec vocabulary length: 30393\n"
     ]
    }
   ],
   "source": [
    "print(\"Word2Vec vocabulary length:\", len(model.wv.vocab))"
   ]
  },
  {
   "cell_type": "code",
   "execution_count": 8,
   "metadata": {},
   "outputs": [
    {
     "name": "stderr",
     "output_type": "stream",
     "text": [
      "2018-04-06 00:51:39,223 : INFO : precomputing L2-norms of word weight vectors\n"
     ]
    },
    {
     "data": {
      "text/plain": [
       "[('गाने', 0.8208057284355164),\n",
       " ('गीतों', 0.7549088001251221),\n",
       " ('गाना', 0.7197213768959045),\n",
       " ('गानों', 0.6698288321495056),\n",
       " ('धुन', 0.6386563777923584),\n",
       " ('गायन', 0.627243161201477),\n",
       " ('गज़ल', 0.6249793171882629),\n",
       " ('फाग', 0.6246353387832642),\n",
       " ('गान', 0.6159066557884216),\n",
       " ('गाये', 0.6153302192687988)]"
      ]
     },
     "execution_count": 8,
     "metadata": {},
     "output_type": "execute_result"
    }
   ],
   "source": [
    "model.wv.most_similar(\"गीत\")"
   ]
  },
  {
   "cell_type": "code",
   "execution_count": 9,
   "metadata": {},
   "outputs": [
    {
     "data": {
      "text/plain": [
       "[('विश्वासों', 0.6627747416496277),\n",
       " ('सांस्कृतिक', 0.6515656113624573),\n",
       " ('अनुष्ठानों', 0.6393204927444458),\n",
       " ('आध्यात्मिक', 0.6370500326156616),\n",
       " ('आस्थाओं', 0.6210089921951294),\n",
       " ('अंधविश्वासों', 0.6133425235748291),\n",
       " ('नैतिक', 0.594624400138855),\n",
       " ('रूढ़िवादी', 0.5914101600646973),\n",
       " ('परम्पराओं', 0.585075855255127),\n",
       " ('हिंदू', 0.5824010968208313),\n",
       " ('राजनीतिक', 0.5773956775665283),\n",
       " ('सामाजिक-सांस्कृतिक', 0.5700770616531372),\n",
       " ('हिंदुओं', 0.5690426826477051),\n",
       " ('सामाजिक', 0.5685431957244873),\n",
       " ('राजनैतिक', 0.5681086182594299),\n",
       " ('बौद्धों', 0.5654340386390686),\n",
       " ('ईसाई', 0.5611101388931274),\n",
       " ('रीति-रिवाजों', 0.5605183243751526),\n",
       " ('आध्यात्मिकता', 0.5519877672195435),\n",
       " ('वैचारिक', 0.5517699122428894)]"
      ]
     },
     "execution_count": 9,
     "metadata": {},
     "output_type": "execute_result"
    }
   ],
   "source": [
    "model.wv.most_similar('धार्मिक',topn=20)"
   ]
  },
  {
   "cell_type": "code",
   "execution_count": 10,
   "metadata": {
    "collapsed": true
   },
   "outputs": [
    {
     "data": {
      "text/plain": [
       "[('धर्मों', 0.599532425403595),\n",
       " ('संप्रदाय', 0.5954092741012573),\n",
       " ('धर्मावलंबियों', 0.595169723033905),\n",
       " ('बौद्धों', 0.5913171172142029),\n",
       " ('ईसाई', 0.589230477809906),\n",
       " ('सम्प्रदाय', 0.580707311630249),\n",
       " ('इस्लाम', 0.5780146718025208),\n",
       " ('पंथ', 0.5771386623382568),\n",
       " ('सनातन', 0.5585727691650391),\n",
       " ('महायान', 0.5581678748130798)]"
      ]
     },
     "execution_count": 10,
     "metadata": {},
     "output_type": "execute_result"
    }
   ],
   "source": [
    "model.wv.most_similar('धर्म')"
   ]
  },
  {
   "cell_type": "code",
   "execution_count": null,
   "metadata": {},
   "outputs": [],
   "source": []
  },
  {
   "cell_type": "code",
   "execution_count": 11,
   "metadata": {},
   "outputs": [
    {
     "data": {
      "text/plain": [
       "[('धर्मों', 0.599532425403595),\n",
       " ('संप्रदाय', 0.5954092741012573),\n",
       " ('धर्मावलंबियों', 0.595169723033905),\n",
       " ('बौद्धों', 0.5913171172142029),\n",
       " ('ईसाई', 0.589230477809906),\n",
       " ('सम्प्रदाय', 0.580707311630249),\n",
       " ('इस्लाम', 0.5780146718025208),\n",
       " ('पंथ', 0.5771386623382568),\n",
       " ('सनातन', 0.5585727691650391),\n",
       " ('महायान', 0.5581678748130798),\n",
       " ('सम्प्रदायों', 0.5557546019554138),\n",
       " ('धर्मांतरण', 0.5459046363830566),\n",
       " ('शिक्षाओं', 0.5450353026390076),\n",
       " ('अध्यात्म', 0.5396395921707153),\n",
       " ('अहिंसा', 0.536888837814331),\n",
       " ('बौद्ध', 0.5334830284118652),\n",
       " ('धर्मशास्त्र', 0.5312783718109131),\n",
       " ('भिक्षुओं', 0.5290490388870239),\n",
       " ('ईसाइयत', 0.5273949503898621),\n",
       " ('इसाई', 0.5253320336341858)]"
      ]
     },
     "execution_count": 11,
     "metadata": {},
     "output_type": "execute_result"
    }
   ],
   "source": [
    "model.wv.most_similar('धर्म',topn=20)\n",
    "#a = model.wv.most_similar('धर्म',topn =4)"
   ]
  },
  {
   "cell_type": "code",
   "execution_count": 12,
   "metadata": {},
   "outputs": [
    {
     "name": "stderr",
     "output_type": "stream",
     "text": [
      "/home/vikrant/anaconda3/lib/python3.6/site-packages/ipykernel_launcher.py:3: DeprecationWarning: Call to deprecated `__getitem__` (Method will be removed in 4.0.0, use self.wv.__getitem__() instead).\n",
      "  This is separate from the ipykernel package so we can avoid doing imports until\n",
      "/home/vikrant/anaconda3/lib/python3.6/site-packages/ipykernel_launcher.py:4: DeprecationWarning: Call to deprecated `__getitem__` (Method will be removed in 4.0.0, use self.wv.__getitem__() instead).\n",
      "  after removing the cwd from sys.path.\n",
      "/home/vikrant/anaconda3/lib/python3.6/site-packages/ipykernel_launcher.py:5: DeprecationWarning: Call to deprecated `__getitem__` (Method will be removed in 4.0.0, use self.wv.__getitem__() instead).\n",
      "  \"\"\"\n",
      "/home/vikrant/anaconda3/lib/python3.6/site-packages/ipykernel_launcher.py:6: DeprecationWarning: Call to deprecated `__getitem__` (Method will be removed in 4.0.0, use self.wv.__getitem__() instead).\n",
      "  \n"
     ]
    }
   ],
   "source": [
    "lmodel = []\n",
    "label  = []\n",
    "lmodel.append(model['धर्म'])\n",
    "lmodel.append(model['धार्मिक'])\n",
    "lmodel.append(model['सांस्कृतिक'])\n",
    "lmodel.append(model['संस्कृत'])\n",
    "label.extend(['धर्म','धार्मिक','सांस्कृतिक','संस्कृत'])\n",
    "#label.extend(['dharm','dharmik','sanskritik','sanskrit'])\n",
    "tsne = sklearn.manifold.TSNE(n_components=2, random_state=0)\n",
    "all_word2vec= tsne.fit_transform(lmodel)\n",
    "#all_word2vec[:,0]"
   ]
  },
  {
   "cell_type": "code",
   "execution_count": 13,
   "metadata": {},
   "outputs": [
    {
     "data": {
      "image/png": "[encoded data removed]",
      "text/plain": [
       "<matplotlib.figure.Figure at 0x7fb25d35a160>"
      ]
     },
     "metadata": {},
     "output_type": "display_data"
    }
   ],
   "source": [
    "x = []\n",
    "y = []\n",
    "for value in all_word2vec:\n",
    "    x.append(value[0])\n",
    "    y.append(value[1])\n",
    "plt.rc('font', family='Lohit Devanagari')\n",
    "        \n",
    "plt.figure(figsize=(8, 8)) \n",
    "for i in range(len(x)):\n",
    "    plt.scatter(x[i],y[i])\n",
    "    \n",
    "    plt.annotate(label[i],\n",
    "                     xy=(x[i], y[i]),\n",
    "                     xytext=(5, 2),\n",
    "                     textcoords='offset points',\n",
    "                     ha='right',\n",
    "                     va='bottom')\n",
    "lx = list(x)\n",
    "ly = list(y)\n",
    "lx.append(x[0])\n",
    "ly.append(y[0])\n",
    "plt.plot(lx,ly)\n",
    "plt.show()"
   ]
  },
  {
   "cell_type": "code",
   "execution_count": 14,
   "metadata": {},
   "outputs": [],
   "source": [
    "def display_100_words(model):\n",
    "    words = model.wv.vocab\n",
    "    list_word = []\n",
    "    for keys, value in words.items():\n",
    "        list_word.append(keys)\n",
    "    \n",
    "    #print(list_word[1])\n",
    "    print(list_word[:10])\n",
    "    random.shuffle(list_word)\n",
    "    #print(list_word[:10])\n",
    "    wrd_vec_list =[]\n",
    "    labels = []\n",
    "    for i in range(100):\n",
    "        wrd_vec_list.append(model[list_word[i]])\n",
    "        labels.append(list_word[i])\n",
    "    tsne_1 = sklearn.manifold.TSNE(n_components=2, random_state=0)\n",
    "    all_100_word= tsne.fit_transform(wrd_vec_list)\n",
    "    plt.rc('font', family='Lohit Devanagari')\n",
    "    X_ax=[]\n",
    "    Y_ax=[]\n",
    "    for value in all_100_word:\n",
    "        X_ax.append(value[0])\n",
    "        Y_ax.append(value[1])\n",
    "    plt.figure(figsize= (12,12))\n",
    "    for i in range(len(X_ax)):\n",
    "        plt.scatter(X_ax[i],Y_ax[i])\n",
    "        plt.annotate(labels[i],\n",
    "                     xy=(X_ax[i], Y_ax[i]),\n",
    "                     xytext=(5, 2),\n",
    "                     textcoords='offset points',\n",
    "                     ha='right',\n",
    "                     va='bottom')\n",
    "    plt.show()\n",
    "    \n",
    "        "
   ]
  },
  {
   "cell_type": "code",
   "execution_count": 15,
   "metadata": {},
   "outputs": [
    {
     "name": "stdout",
     "output_type": "stream",
     "text": [
      "['विनिवेश', 'लवण', 'देवीसिंह', 'घाटा', 'हस्तचालित', 'डीवीडी', 'उठायी', 'श्रीकाकुलम', 'हिग्स', 'घटनाक्रम']\n"
     ]
    },
    {
     "name": "stderr",
     "output_type": "stream",
     "text": [
      "/home/vikrant/anaconda3/lib/python3.6/site-packages/ipykernel_launcher.py:14: DeprecationWarning: Call to deprecated `__getitem__` (Method will be removed in 4.0.0, use self.wv.__getitem__() instead).\n",
      "  \n"
     ]
    },
    {
     "data": {
      "image/png": "[encoded data removed]",
      "text/plain": [
       "<matplotlib.figure.Figure at 0x7fb25d868550>"
      ]
     },
     "metadata": {},
     "output_type": "display_data"
    }
   ],
   "source": [
    "display_100_words(model)"
   ]
  },
  {
   "cell_type": "code",
   "execution_count": 16,
   "metadata": {},
   "outputs": [
    {
     "data": {
      "text/plain": [
       "30393"
      ]
     },
     "execution_count": 16,
     "metadata": {},
     "output_type": "execute_result"
    }
   ],
   "source": [
    "len(model.wv.vocab)\n"
   ]
  },
  {
   "cell_type": "code",
   "execution_count": 17,
   "metadata": {},
   "outputs": [
    {
     "data": {
      "text/plain": [
       "[('हॉकी', 0.6152949333190918),\n",
       " ('फुटबॉल', 0.6146696209907532),\n",
       " ('सॉकर', 0.6075063943862915),\n",
       " ('एथलेटिक', 0.6016993522644043),\n",
       " ('बास्केटबॉल', 0.5999826192855835),\n",
       " ('फ़ुटबॉल', 0.5843713879585266),\n",
       " ('एकदिवसीय', 0.5812628269195557),\n",
       " ('जिम्बाब्वे', 0.5744085311889648),\n",
       " ('रग्बी', 0.5716920495033264),\n",
       " ('बैडमिंटन', 0.5637773275375366)]"
      ]
     },
     "execution_count": 17,
     "metadata": {},
     "output_type": "execute_result"
    }
   ],
   "source": [
    "model.wv.most_similar(positive=['मुस्लिम','क्रिकेट'],negative= ['मुसलमान'],topn=10)"
   ]
  },
  {
   "cell_type": "code",
   "execution_count": 18,
   "metadata": {},
   "outputs": [
    {
     "data": {
      "text/plain": [
       "[('सहवाग', 0.6555641293525696),\n",
       " ('धोनी', 0.6221282482147217),\n",
       " ('मुरलीधरन', 0.5859558582305908),\n",
       " ('गावस्कर', 0.5848497152328491),\n",
       " ('वीरेंद्र', 0.5783268809318542),\n",
       " ('सचिन', 0.5725929737091064),\n",
       " ('विकेटकीपर', 0.5701088905334473),\n",
       " ('उन्नीकृष्णन', 0.5640285015106201),\n",
       " ('कुंबले', 0.563779890537262),\n",
       " ('तेंदुलकर', 0.5608426332473755)]"
      ]
     },
     "execution_count": 18,
     "metadata": {},
     "output_type": "execute_result"
    }
   ],
   "source": [
    "model.wv.most_similar(positive=['ध्यानचंद','क्रिकेट'],negative=['हॉकी'] ,topn=10)"
   ]
  },
  {
   "cell_type": "code",
   "execution_count": 19,
   "metadata": {},
   "outputs": [
    {
     "data": {
      "text/plain": [
       "[('सिंधिया', 0.6995754241943359),\n",
       " ('जयसिंह', 0.6877270340919495),\n",
       " ('होलकर', 0.6715085506439209),\n",
       " ('कृष्णराज', 0.6402056813240051),\n",
       " ('हर्षवर्धन', 0.6327850818634033),\n",
       " ('साम्राज्ञी', 0.6271589398384094),\n",
       " ('होल्कर', 0.6238987445831299),\n",
       " ('नरेश', 0.6203678846359253),\n",
       " ('पेशवा', 0.618403971195221),\n",
       " ('जहाँगीर', 0.6180843114852905)]"
      ]
     },
     "execution_count": 19,
     "metadata": {},
     "output_type": "execute_result"
    }
   ],
   "source": [
    "model.wv.most_similar(positive=['महाराजा','महारानी'],negative=['आदमी'])"
   ]
  },
  {
   "cell_type": "code",
   "execution_count": 20,
   "metadata": {},
   "outputs": [
    {
     "data": {
      "text/plain": [
       "\"\\ndef find_stem(word):\\n    list1 = model.wv.most_similar(positive=['मुसलमान',word],negative= ['मुस्लिम'],topn=50)\\n    list2 = model.wv.most_similar(positive=['धार्मिक',word],negative=['धर्म'] ,topn=50)\\n    list3 = model.wv.most_similar(positive=['सांस्कृतिक',word],negative=['संस्कृत'],topn=50)\\n    word_list =[]\\n    for i in range(50):\\n        word_list.append(list1[i][0])\\n        word_list.append(list2[i][0])\\n        word_list.append(list3[i][0])\\n    word_set = set(word_list)\\n    word_count = [0]*len(word_set)\\n    for i in word_set:\\n        index=0\\n        count = 0\\n        for j in word_list:\\n            if i == j:\\n                count+=1\\n        word_count[index]=count\\n        index+=1\\n    Word_list_occur = list(zip(word_set,word_count))\\n    sorted(Word_list_occur,key=lambda x: x[1])\\n    for i in range(10):\\n        print(Word_list_occur[i][0])\\n        \\n    \\n    \\n    \\n    \\n    \""
      ]
     },
     "execution_count": 20,
     "metadata": {},
     "output_type": "execute_result"
    }
   ],
   "source": [
    "'''\n",
    "def find_stem(word):\n",
    "    list1 = model.wv.most_similar(positive=['मुसलमान',word],negative= ['मुस्लिम'],topn=50)\n",
    "    list2 = model.wv.most_similar(positive=['धार्मिक',word],negative=['धर्म'] ,topn=50)\n",
    "    list3 = model.wv.most_similar(positive=['सांस्कृतिक',word],negative=['संस्कृत'],topn=50)\n",
    "    word_list =[]\n",
    "    for i in range(50):\n",
    "        word_list.append(list1[i][0])\n",
    "        word_list.append(list2[i][0])\n",
    "        word_list.append(list3[i][0])\n",
    "    word_set = set(word_list)\n",
    "    word_count = [0]*len(word_set)\n",
    "    for i in word_set:\n",
    "        index=0\n",
    "        count = 0\n",
    "        for j in word_list:\n",
    "            if i == j:\n",
    "                count+=1\n",
    "        word_count[index]=count\n",
    "        index+=1\n",
    "    Word_list_occur = list(zip(word_set,word_count))\n",
    "    sorted(Word_list_occur,key=lambda x: x[1])\n",
    "    for i in range(10):\n",
    "        print(Word_list_occur[i][0])\n",
    "        \n",
    "    \n",
    "    \n",
    "    \n",
    "    \n",
    "    '''"
   ]
  },
  {
   "cell_type": "code",
   "execution_count": 51,
   "metadata": {},
   "outputs": [],
   "source": [
    "def find_stem2(word):\n",
    "    n = len(word)\n",
    "    \n",
    "    suf_len = int(n*0.6)\n",
    "    stem = word\n",
    "    #print(n,suf_len)\n",
    "    for i in range(1,suf_len):\n",
    "        \n",
    "        temp_word = word[:-i]\n",
    "        print('stripped word: ' temp_word)\n",
    "        if temp_word in model.wv.vocab:\n",
    "            stem = temp_word\n",
    "        else:\n",
    "            pass\n",
    "        \n",
    "    return stem"
   ]
  },
  {
   "cell_type": "code",
   "execution_count": 63,
   "metadata": {},
   "outputs": [
    {
     "name": "stdout",
     "output_type": "stream",
     "text": [
      "पत्नियो\n",
      "पत्निय\n",
      "पत्नि\n",
      "Stem word:  पत्नि\n"
     ]
    }
   ],
   "source": [
    "print('Stem word: ',find_stem2('पत्नियों'))"
   ]
  },
  {
   "cell_type": "code",
   "execution_count": 56,
   "metadata": {},
   "outputs": [
    {
     "name": "stdout",
     "output_type": "stream",
     "text": [
      "रानियो\n",
      "रानिय\n",
      "रानि\n",
      "Stem word:  रानियों\n"
     ]
    },
    {
     "ename": "KeyError",
     "evalue": "\"word 'रानि' not in vocabulary\"",
     "output_type": "error",
     "traceback": [
      "\u001b[0;31m---------------------------------------------------------------------------\u001b[0m",
      "\u001b[0;31mKeyError\u001b[0m                                  Traceback (most recent call last)",
      "\u001b[0;32m<ipython-input-56-4f4d8bc5024c>\u001b[0m in \u001b[0;36m<module>\u001b[0;34m()\u001b[0m\n\u001b[1;32m      1\u001b[0m \u001b[0mprint\u001b[0m\u001b[0;34m(\u001b[0m\u001b[0;34m'Stem word: '\u001b[0m\u001b[0;34m,\u001b[0m\u001b[0mfind_stem2\u001b[0m\u001b[0;34m(\u001b[0m\u001b[0;34m'रानियों'\u001b[0m\u001b[0;34m)\u001b[0m\u001b[0;34m)\u001b[0m\u001b[0;34m\u001b[0m\u001b[0m\n\u001b[0;32m----> 2\u001b[0;31m \u001b[0mmodel\u001b[0m\u001b[0;34m.\u001b[0m\u001b[0mwv\u001b[0m\u001b[0;34m.\u001b[0m\u001b[0mmost_similar\u001b[0m\u001b[0;34m(\u001b[0m\u001b[0;34m'रानि'\u001b[0m\u001b[0;34m)\u001b[0m\u001b[0;34m\u001b[0m\u001b[0m\n\u001b[0m",
      "\u001b[0;32m~/.local/lib/python3.6/site-packages/gensim/models/keyedvectors.py\u001b[0m in \u001b[0;36mmost_similar\u001b[0;34m(self, positive, negative, topn, restrict_vocab, indexer)\u001b[0m\n\u001b[1;32m    358\u001b[0m                 \u001b[0mmean\u001b[0m\u001b[0;34m.\u001b[0m\u001b[0mappend\u001b[0m\u001b[0;34m(\u001b[0m\u001b[0mweight\u001b[0m \u001b[0;34m*\u001b[0m \u001b[0mword\u001b[0m\u001b[0;34m)\u001b[0m\u001b[0;34m\u001b[0m\u001b[0m\n\u001b[1;32m    359\u001b[0m             \u001b[0;32melse\u001b[0m\u001b[0;34m:\u001b[0m\u001b[0;34m\u001b[0m\u001b[0m\n\u001b[0;32m--> 360\u001b[0;31m                 \u001b[0mmean\u001b[0m\u001b[0;34m.\u001b[0m\u001b[0mappend\u001b[0m\u001b[0;34m(\u001b[0m\u001b[0mweight\u001b[0m \u001b[0;34m*\u001b[0m \u001b[0mself\u001b[0m\u001b[0;34m.\u001b[0m\u001b[0mword_vec\u001b[0m\u001b[0;34m(\u001b[0m\u001b[0mword\u001b[0m\u001b[0;34m,\u001b[0m \u001b[0muse_norm\u001b[0m\u001b[0;34m=\u001b[0m\u001b[0;32mTrue\u001b[0m\u001b[0;34m)\u001b[0m\u001b[0;34m)\u001b[0m\u001b[0;34m\u001b[0m\u001b[0m\n\u001b[0m\u001b[1;32m    361\u001b[0m                 \u001b[0;32mif\u001b[0m \u001b[0mword\u001b[0m \u001b[0;32min\u001b[0m \u001b[0mself\u001b[0m\u001b[0;34m.\u001b[0m\u001b[0mvocab\u001b[0m\u001b[0;34m:\u001b[0m\u001b[0;34m\u001b[0m\u001b[0m\n\u001b[1;32m    362\u001b[0m                     \u001b[0mall_words\u001b[0m\u001b[0;34m.\u001b[0m\u001b[0madd\u001b[0m\u001b[0;34m(\u001b[0m\u001b[0mself\u001b[0m\u001b[0;34m.\u001b[0m\u001b[0mvocab\u001b[0m\u001b[0;34m[\u001b[0m\u001b[0mword\u001b[0m\u001b[0;34m]\u001b[0m\u001b[0;34m.\u001b[0m\u001b[0mindex\u001b[0m\u001b[0;34m)\u001b[0m\u001b[0;34m\u001b[0m\u001b[0m\n",
      "\u001b[0;32m~/.local/lib/python3.6/site-packages/gensim/models/keyedvectors.py\u001b[0m in \u001b[0;36mword_vec\u001b[0;34m(self, word, use_norm)\u001b[0m\n\u001b[1;32m    267\u001b[0m             \u001b[0;32mreturn\u001b[0m \u001b[0mresult\u001b[0m\u001b[0;34m\u001b[0m\u001b[0m\n\u001b[1;32m    268\u001b[0m         \u001b[0;32melse\u001b[0m\u001b[0;34m:\u001b[0m\u001b[0;34m\u001b[0m\u001b[0m\n\u001b[0;32m--> 269\u001b[0;31m             \u001b[0;32mraise\u001b[0m \u001b[0mKeyError\u001b[0m\u001b[0;34m(\u001b[0m\u001b[0;34m\"word '%s' not in vocabulary\"\u001b[0m \u001b[0;34m%\u001b[0m \u001b[0mword\u001b[0m\u001b[0;34m)\u001b[0m\u001b[0;34m\u001b[0m\u001b[0m\n\u001b[0m\u001b[1;32m    270\u001b[0m \u001b[0;34m\u001b[0m\u001b[0m\n\u001b[1;32m    271\u001b[0m     \u001b[0;32mdef\u001b[0m \u001b[0mget_vector\u001b[0m\u001b[0;34m(\u001b[0m\u001b[0mself\u001b[0m\u001b[0;34m,\u001b[0m \u001b[0mword\u001b[0m\u001b[0;34m)\u001b[0m\u001b[0;34m:\u001b[0m\u001b[0;34m\u001b[0m\u001b[0m\n",
      "\u001b[0;31mKeyError\u001b[0m: \"word 'रानि' not in vocabulary\""
     ]
    }
   ],
   "source": [
    "print('Stem word: ',find_stem2('रानियों'))\n",
    "model.wv.most_similar('रानि')"
   ]
  },
  {
   "cell_type": "code",
   "execution_count": 62,
   "metadata": {},
   "outputs": [
    {
     "name": "stdout",
     "output_type": "stream",
     "text": [
      "प्यार\n",
      "प्या\n",
      "Stem word:  प्यार\n"
     ]
    }
   ],
   "source": [
    "print('Stem word: ',find_stem2('प्यारी'))\n"
   ]
  },
  {
   "cell_type": "code",
   "execution_count": null,
   "metadata": {},
   "outputs": [],
   "source": []
  }
 ],
 "metadata": {
  "kernelspec": {
   "display_name": "Python 3",
   "language": "python",
   "name": "python3"
  },
  "language_info": {
   "codemirror_mode": {
    "name": "ipython",
    "version": 3
   },
   "file_extension": ".py",
   "mimetype": "text/x-python",
   "name": "python",
   "nbconvert_exporter": "python",
   "pygments_lexer": "ipython3",
   "version": "3.6.4"
  }
 },
 "nbformat": 4,
 "nbformat_minor": 2
}
